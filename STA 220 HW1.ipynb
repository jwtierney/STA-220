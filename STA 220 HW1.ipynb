{
 "cells": [
  {
   "cell_type": "markdown",
   "metadata": {
    "tags": [
     "header"
    ]
   },
   "source": [
    "# STA 220 Assignment 1\n",
    "# Jake Tierney, Student ID: 913235409\n",
    "\n",
    "Due __January 26, 2024__ by __11:59pm__. Submit your work by uploading it to Gradescope through Canvas.\n",
    "\n",
    "Instructions:\n",
    "\n",
    "1. Provide your solutions in new cells following each exercise description. Create as many new cells as necessary. Use code cells for your Python scripts and Markdown cells for explanatory text or answers to non-coding questions. Answer all textual questions in complete sentences.\n",
    "2. The use of assistive tools is permitted, but must be indicated. You will be graded on you proficiency in coding. Produce high quality code by adhering to proper programming principles. \n",
    "3. Export the .jpynb as .pdf and submit it on Gradescope in time. To facilitate grading, indicate the area of the solution on the submission. Submissions without indication will be marked down. No late submissions accepted. \n",
    "4. If test cases are given, your solution must be in the same format. \n",
    "5. The total number of points is 10. "
   ]
  },
  {
   "cell_type": "markdown",
   "metadata": {
    "tags": [
     "exercise"
    ]
   },
   "source": [
    "__Exercise 1__\n",
    "\n",
    "Answer the following questions by querying [Lahman Baseball Database](http://seanlahman.com/). The 2019 version together with the description (`readme2019.txt`) are on Piazza. Answer the following questions. \n",
    "\n",
    "The purpose of this assignment is to practice accessing and analyzing data in a database. For full credit for (a) and (b), query the correct table with `pandas.read_sql` and a single SQL query. Unless otherwise specified, return in the same format of the test case. "
   ]
  },
  {
   "cell_type": "markdown",
   "metadata": {
    "tags": [
     "exercise"
    ]
   },
   "source": [
    "__(a, i)__ Which pitcher has the second most [home runs allowed](https://en.wikipedia.org/wiki/Home_runs_allowed) in the American League? __(ii)__ Which pitcher has the worst home runs allowed per game ratio? "
   ]
  },
  {
   "cell_type": "code",
   "execution_count": 1,
   "metadata": {
    "tags": [
     "test"
    ]
   },
   "outputs": [
    {
     "name": "stdout",
     "output_type": "stream",
     "text": [
      "Frank Tanana (422)\n"
     ]
    }
   ],
   "source": [
    "# Excercise 1, Problem a\n",
    "\n",
    "# (i) Which pitcher has the second most home runs allowed in the American League?\n",
    "\n",
    "# Importing numpy, pandas, and sqlite3\n",
    "import numpy as np\n",
    "import pandas as pd\n",
    "import sqlite3 as sql\n",
    "\n",
    "# Connecting to Lahman database\n",
    "lahmandb = sql.connect(\"/Users/Jake/Desktop/STA_220/HW1/lahmansbaseballdb.sqlite\")\n",
    "\n",
    "# Most home runs allowed in the American League\n",
    "result1 = pd.read_sql(\"\"\"SELECT pitching.playerID, nameFirst, nameLast, SUM(HR) AS hra \n",
    "                        FROM (pitching LEFT JOIN people ON pitching.playerID = people.playerID)\n",
    "                        WHERE lgID = 'AL' GROUP BY pitching.playerID ORDER BY hra DESC\n",
    "                        \"\"\", lahmandb).iloc[0]\n",
    "\n",
    "print(result1['nameFirst'] + \" \" + result1['nameLast'] + \" (\" + str(result1[\"hra\"]) + \")\")"
   ]
  },
  {
   "cell_type": "code",
   "execution_count": 2,
   "metadata": {
    "tags": [
     "test"
    ]
   },
   "outputs": [
    {
     "name": "stdout",
     "output_type": "stream",
     "text": [
      "SOLUTION: Tim Wakefield (401)\n"
     ]
    }
   ],
   "source": [
    "# Second home runs allowed in the American League\n",
    "result2 = pd.read_sql(\"\"\"SELECT pitching.playerID, nameFirst, nameLast, SUM(HR) AS hra \n",
    "                        FROM (pitching LEFT JOIN people ON pitching.playerID = people.playerID)\n",
    "                        WHERE lgID = 'AL' GROUP BY pitching.playerID ORDER BY hra DESC\n",
    "                        \"\"\", lahmandb).iloc[1]\n",
    "\n",
    "print(\"SOLUTION: \" + result2['nameFirst'] + \" \" + result2['nameLast'] + \" (\" + str(result2[\"hra\"]) + \")\")"
   ]
  },
  {
   "cell_type": "markdown",
   "metadata": {
    "tags": [
     "exercise"
    ]
   },
   "source": [
    "As we can see above, Tim Wakefield has the second most home runs allowed in the American League in this database, with 401 home runs allowed in the American League."
   ]
  },
  {
   "cell_type": "code",
   "execution_count": 3,
   "metadata": {},
   "outputs": [
    {
     "name": "stdout",
     "output_type": "stream",
     "text": [
      "SOLUTION: Bob Malloy (3.0)\n"
     ]
    }
   ],
   "source": [
    "# (ii) Which pitcher has the worst home runs allowed per game ratio?\n",
    "worst_ratio = pd.read_sql(\"\"\"SELECT * FROM (SELECT pitching.playerID, nameFirst, nameLast, SUM(HR) AS hra, SUM(G) AS total_games,\n",
    "                        SUM(ROUND(HR, 3))/SUM(G) AS hra_per_g, pitching.lgID\n",
    "                        FROM (pitching LEFT JOIN people ON pitching.playerID = people.playerID)\n",
    "                        WHERE pitching.lgID = \"AL\"\n",
    "                        GROUP BY pitching.playerID ORDER BY hra_per_g DESC, total_games DESC);\n",
    "                        \"\"\", lahmandb).iloc[0]\n",
    "print(\"SOLUTION: \" + worst_ratio['nameFirst'] + \" \" + worst_ratio['nameLast'] + \" (\" + str(worst_ratio[\"hra_per_g\"]) + \")\")"
   ]
  },
  {
   "cell_type": "markdown",
   "metadata": {
    "tags": [
     "exercise"
    ]
   },
   "source": [
    "While multiple American League pitchers allowed 3 home runs in a single game played, Bob Malloy had the same home runs allowed per game ratio over the course of two games played, and so he has the worst home runs allowed per game ratio in American League history."
   ]
  },
  {
   "cell_type": "markdown",
   "metadata": {
    "tags": [
     "exercise"
    ]
   },
   "source": [
    "__(b, i)__ Amongst all players in the American League that have passed, report their average lifespan in full years. __(ii)__ Return the six schools with most hall-of-fame alumni. __(iii)__ What fraction of managers have not been professional players?  "
   ]
  },
  {
   "cell_type": "code",
   "execution_count": 4,
   "metadata": {
    "tags": [
     "test"
    ]
   },
   "outputs": [
    {
     "name": "stdout",
     "output_type": "stream",
     "text": [
      "SOLUTION: 70\n"
     ]
    }
   ],
   "source": [
    "# Excercise 1, Problem b\n",
    "\n",
    "# (i) Amongst all players in the American League that have passed, report their average lifespan in full years.\n",
    "\n",
    "# Printing the average lifespan for passed players in the American League\n",
    "avgAge = pd.read_sql(\"\"\"SELECT CAST(AVG(death_age) AS INTEGER) FROM\n",
    "                (SELECT DISTINCT appearances.playerID, lgID, birth_date, death_date,\n",
    "                (JULIANDAY(death_date) - JULIANDAY(birth_date))*1.0/365 AS death_age\n",
    "                FROM (appearances LEFT JOIN people ON appearances.playerID = people.playerID)\n",
    "                WHERE death_date != \"None\" AND lgID = \"AL\");\n",
    "                        \"\"\", lahmandb).iloc[0, 0]\n",
    "\n",
    "print(\"SOLUTION: \" + str(avgAge))"
   ]
  },
  {
   "cell_type": "markdown",
   "metadata": {
    "tags": [
     "exercise"
    ]
   },
   "source": [
    "The average age, in full years, at the time of passing for all AL players in the database is 70 years."
   ]
  },
  {
   "cell_type": "code",
   "execution_count": 5,
   "metadata": {
    "tags": [
     "test"
    ]
   },
   "outputs": [
    {
     "name": "stdout",
     "output_type": "stream",
     "text": [
      "SOLUTION: The six schools with the most Hall of Fame alumni are:\n",
      "University of Southern California: 3\n",
      "University of Minnesota: 2\n",
      "University of Michigan: 2\n",
      "University of Cincinnati: 2\n",
      "St. Bonaventure University: 2\n",
      "San Diego State University: 2\n",
      "Miami-Dade College, North Campus: 2\n",
      "Columbia University: 2\n"
     ]
    }
   ],
   "source": [
    "# (ii) Return the six schools with most hall-of-fame alumni.\n",
    "\n",
    "# Printing the six schools with the most hall-of-fame alumni.\n",
    "hofschools = pd.read_sql(\"\"\"SELECT name_full, CAST(COUNT(name_full) AS text) AS numhofers\n",
    "                FROM (SELECT DISTINCT collegeplaying.playerID, collegeplaying.schoolID, name_full, halloffame.yearid\n",
    "                FROM collegeplaying JOIN schools ON collegeplaying.schoolID = schools.schoolID\n",
    "                JOIN halloffame ON collegeplaying.playerID = halloffame.playerID\n",
    "                WHERE inducted = \"Y\") GROUP BY name_full ORDER BY numhofers DESC;\n",
    "                        \"\"\", lahmandb)\n",
    "\n",
    "print(\"SOLUTION: \" + \"The six schools with the most Hall of Fame alumni are:\")\n",
    "print(hofschools.name_full[0] + \": \" + hofschools.numhofers[0])\n",
    "print(hofschools.name_full[1] + \": \" + hofschools.numhofers[1])\n",
    "print(hofschools.name_full[2] + \": \" + hofschools.numhofers[2])\n",
    "print(hofschools.name_full[3] + \": \" + hofschools.numhofers[3])\n",
    "print(hofschools.name_full[4] + \": \" + hofschools.numhofers[4])\n",
    "print(hofschools.name_full[5] + \": \" + hofschools.numhofers[5])\n",
    "print(hofschools.name_full[6] + \": \" + hofschools.numhofers[6])\n",
    "print(hofschools.name_full[7] + \": \" + hofschools.numhofers[7])"
   ]
  },
  {
   "cell_type": "code",
   "execution_count": 6,
   "metadata": {
    "tags": [
     "test"
    ]
   },
   "outputs": [
    {
     "name": "stdout",
     "output_type": "stream",
     "text": [
      "SOLUTION: 0.17507002801120447\n"
     ]
    }
   ],
   "source": [
    "# (iii) What fraction of managers have not been professional players?\n",
    "\n",
    "# Printing the proportion of MLB managers who never played in MLB\n",
    "mgrProp = pd.read_sql(\"\"\"SELECT COUNT(playerID) AS mgr, COUNT(G_all) AS plyrmgr,\n",
    "                COUNT(playerID) - COUNT(G_all)  AS nonplyrmgr,\n",
    "                (ROUND(COUNT(playerID), 4) - ROUND(COUNT(G_all), 4))/ROUND(COUNT(playerID), 4) AS pct\n",
    "                FROM (SELECT managers.playerID, G_all FROM managers LEFT JOIN appearances\n",
    "                ON managers.playerID = appearances.playerID\n",
    "                GROUP BY managers.playerID);\n",
    "                        \"\"\", lahmandb).iloc[0, 3]\n",
    "print(\"SOLUTION: \" + str(mgrProp))"
   ]
  },
  {
   "cell_type": "markdown",
   "metadata": {
    "tags": [
     "exercise"
    ]
   },
   "source": [
    "We can see above that the fraction of managers that have not been professional MLB players is roughly 0.175, or 7/40."
   ]
  },
  {
   "cell_type": "markdown",
   "metadata": {
    "tags": [
     "exercise"
    ]
   },
   "source": [
    "__(c)__ Create a world map with a color gradient corresponding to the log-number of players per country in the data set. Use `pandas.read_html` to retrieve the ISO codes from [wikipedia](https://en.wikipedia.org/wiki/List_of_ISO_3166_country_codes), and merge those records as good as you can. Match no more than ten countries to their ISOs manually. "
   ]
  },
  {
   "cell_type": "code",
   "execution_count": 7,
   "metadata": {
    "tags": [
     "test"
    ]
   },
   "outputs": [
    {
     "data": {
      "text/plain": [
       "Text(0.5, 1.0, 'Log-Frequency of MLB Players by Country')"
      ]
     },
     "execution_count": 7,
     "metadata": {},
     "output_type": "execute_result"
    },
    {
     "data": {
      "image/png": "[encoded data removed]",
      "text/plain": [
       "<Figure size 1600x600 with 2 Axes>"
      ]
     },
     "metadata": {},
     "output_type": "display_data"
    }
   ],
   "source": [
    "# Excercise 1, Problem c\n",
    "\n",
    "# Create a world map with a color gradient corresponding to the log-number of players per country in the data set.\n",
    "\n",
    "# Loading packages and libraries needed for this problem\n",
    "import geopandas as gpd\n",
    "import matplotlib.pyplot as plt\n",
    "import warnings\n",
    "warnings.simplefilter(action='ignore', category=FutureWarning)\n",
    "\n",
    "# Creating DF of log number of players by country\n",
    "logplyrs = pd.read_sql(\"\"\"SELECT LOG(COUNT(playerID)) as numplyrs, birthCountry AS countryName\n",
    "                FROM (SELECT playerID, birthCountry FROM people) WHERE birthCountry != \"None\" AND birthCountry != \"At Sea\"\n",
    "                GROUP BY birthCountry ORDER BY numplyrs DESC;\n",
    "                        \"\"\", lahmandb)\n",
    "\n",
    "# Pulling country ISO codes from Wikipedia\n",
    "countrycodes = pd.read_html(\"https://en.wikipedia.org/wiki/List_of_ISO_3166_country_codes\")[0]\n",
    "countrycodes = countrycodes.iloc[1:271, [0, 4]]\n",
    "countrycodes.rename(\n",
    "    columns={\"Country name[5]\": \"countryName\", \"A-3 [5]\": \"ISO\"},\n",
    "    inplace=True,\n",
    ")\n",
    "\n",
    "# Adjusting countrycodes dataframe to better merge with the logplyrs dataframe\n",
    "countrycodes = countrycodes.droplevel(0, axis=1)\n",
    "countrycodes.drop([51, 130], axis = 0, inplace = True)\n",
    "countrycodes[\"countryName\"] = countrycodes.countryName.str.split(' \\(', expand=True)[0]\n",
    "countrycodes[\"countryName\"] = countrycodes.countryName.str.split('\\[', expand=True)[0]\n",
    "countrycodes[\"countryName\"] = countrycodes.countryName.str.split(' of', expand=True)[0]\n",
    "countrycodes[\"countryName\"] = countrycodes.countryName.str.split('\\,', expand=True)[0]\n",
    "countrycodes[\"countryName\"] = countrycodes['countryName'].str.encode('ascii', 'ignore').str.decode('ascii')\n",
    "\n",
    "# Merging countrycodes dataframe and logplyrs dataframe on countryName\n",
    "logplyrs = pd.merge(logplyrs, countrycodes, how='left', on=\"countryName\")\n",
    "\n",
    "# Manually updating ISO codes for USA, D.R., P.R., CAN, South Korea, Curacao, V.I., Russia, and Czech Republic\n",
    "logplyrs.iloc[0, 2] = \"USA\"\n",
    "logplyrs.iloc[1, 2] = \"DOM\"\n",
    "logplyrs.iloc[3, 2] = \"PRI\"\n",
    "logplyrs.iloc[4, 2] = \"CAN\"\n",
    "logplyrs.iloc[14, 2] = \"KOR\"\n",
    "logplyrs.iloc[17, 2] = \"CUW\"\n",
    "logplyrs.iloc[18, 2] = \"VIR\"\n",
    "logplyrs.iloc[20, 2] = \"RUS\"\n",
    "logplyrs.iloc[23, 2] = \"CZE\"\n",
    "\n",
    "# Reading the world map dataset, renaming the ISO code column\n",
    "wm = gpd.read_file(gpd.datasets.get_path(\"naturalearth_lowres\"))\n",
    "wm.rename(\n",
    "    columns={\"iso_a3\": \"ISO\"},\n",
    "    inplace=True,\n",
    ")\n",
    "\n",
    "# Merging logplyrs dataframe into the wm dataframe, filling NaN rows with 0 so that they plot on the final world map\n",
    "wm = pd.merge(wm, logplyrs, how='left', on=\"ISO\")\n",
    "wm['numplyrs'] = wm['numplyrs'].fillna(0)\n",
    "\n",
    "# Creating axes and plotting world map\n",
    "fig, ax = plt.subplots(figsize=(16, 6))\n",
    "wm.plot(ax=ax, column = \"numplyrs\", cmap='OrRd', legend = True)\n",
    "\n",
    "# Adding title\n",
    "plt.title(\"Log-Frequency of MLB Players by Country\")"
   ]
  },
  {
   "cell_type": "code",
   "execution_count": 8,
   "metadata": {
    "tags": [
     "test"
    ]
   },
   "outputs": [],
   "source": [
    "# Closing the Lahman database\n",
    "lahmandb.close()"
   ]
  },
  {
   "cell_type": "markdown",
   "metadata": {
    "tags": [
     "exercise"
    ]
   },
   "source": [
    "__Exercise 2__\n",
    "\n",
    "We will use the [lichess](https://lichess.org/api) API to retrieve some information about the current state of chess in the world. In order to answer below questions, make precise and economical requests. You may use:\n",
    "```\n",
    "import requests\n",
    "import json\n",
    "import pandas\n",
    "\n",
    "from datetime import datetime\n",
    "```"
   ]
  },
  {
   "cell_type": "code",
   "execution_count": 9,
   "metadata": {
    "tags": [
     "test"
    ]
   },
   "outputs": [],
   "source": [
    "# Exercise 2\n",
    "\n",
    "# Loading necessary packages and tools for this exercise\n",
    "import requests as rq\n",
    "import json as js\n",
    "from datetime import datetime as dt"
   ]
  },
  {
   "cell_type": "markdown",
   "metadata": {
    "tags": [
     "exercise"
    ]
   },
   "source": [
    "__(a)__ What is the real name of the leader of the blitz leaderboard? "
   ]
  },
  {
   "cell_type": "code",
   "execution_count": 10,
   "metadata": {
    "tags": [
     "test"
    ]
   },
   "outputs": [
    {
     "name": "stdout",
     "output_type": "stream",
     "text": [
      "SOLUTION: Vladislav Artemiev\n"
     ]
    }
   ],
   "source": [
    "# Exercise 2, Problem a\n",
    "\n",
    "# What is the real name of the leader of the blitz leaderboard?\n",
    "\n",
    "# Getting the username of the leader at the top of the blitz leaderboard\n",
    "response = rq.get(\"https://lichess.org/player/top/1/blitz\", headers={\"Accept\": \"application/json\",})\n",
    "result = response.json()\n",
    "leader = result[\"users\"][0][\"username\"]\n",
    "\n",
    "# Creating the url of the leader's page\n",
    "leader_url = \"https://lichess.org/api/user/\" + leader\n",
    "\n",
    "# Getting the first and last name of the leader\n",
    "response = rq.get(leader_url, headers={\"Accept\": \"application/json\",})\n",
    "result = response.json()\n",
    "first = result[\"profile\"][\"firstName\"]\n",
    "last = result[\"profile\"][\"lastName\"]\n",
    "\n",
    "# Printing the real name of the blitz leader\n",
    "print(\"SOLUTION: \" + first + \" \" + last)"
   ]
  },
  {
   "cell_type": "markdown",
   "metadata": {
    "tags": [
     "exercise"
    ]
   },
   "source": [
    "We can see above that the real name of the leader of the blitz leaderboard is Vladislav Artemiev.\n",
    "\n"
   ]
  },
  {
   "cell_type": "markdown",
   "metadata": {
    "tags": [
     "exercise"
    ]
   },
   "source": [
    "\n",
    "\n",
    "__(b, i)__ Get the username of the last player that played a rapid game against user `athena-pallada`. __(ii)__ In all games against this user, how many times did `athena-pallada` win? _(Provide code that answers the question in case more than just a single game is returned)_"
   ]
  },
  {
   "cell_type": "code",
   "execution_count": 11,
   "metadata": {
    "tags": [
     "test"
    ]
   },
   "outputs": [
    {
     "name": "stdout",
     "output_type": "stream",
     "text": [
      "SOLUTION: Bacio129\n"
     ]
    }
   ],
   "source": [
    "# Exercise 2, Problem b\n",
    "\n",
    "# (i) Get the username of the last player that played a rapid game against user athena-pallada\n",
    "\n",
    "# Setting athena-pallada as the player url\n",
    "player = \"athena-pallada\"\n",
    "player_url = \"https://lichess.org/api/games/user/\" + player\n",
    "params = {\"perfType\": \"rapid\"}\n",
    "\n",
    "# Getting all rapid games from player\n",
    "games = rq.get(player_url, params, headers={\"Accept\": \"application/x-ndjson\",})\n",
    "games = games.text\n",
    "\n",
    "# Splitting out the most recent game in the dataset\n",
    "lastgame = games.split(\"\\n\")[0]\n",
    "lastgame = js.loads(lastgame)\n",
    "\n",
    "# Assigning the opponents username based on the players field\n",
    "if lastgame[\"players\"][\"white\"][\"user\"][\"name\"] == player:\n",
    "    opponentname = lastgame[\"players\"][\"black\"][\"user\"][\"name\"]\n",
    "else:\n",
    "    opponentname = lastgame[\"players\"][\"white\"][\"user\"][\"name\"]\n",
    "\n",
    "print(\"SOLUTION: \" + opponentname)"
   ]
  },
  {
   "cell_type": "markdown",
   "metadata": {
    "tags": [
     "exercise"
    ]
   },
   "source": [
    "The username of the last player that played a rapid game against athena-pallada is Bacio129.\n",
    "\n"
   ]
  },
  {
   "cell_type": "code",
   "execution_count": 12,
   "metadata": {
    "tags": [
     "test"
    ]
   },
   "outputs": [
    {
     "name": "stdout",
     "output_type": "stream",
     "text": [
      "SOLUTION: 2\n"
     ]
    }
   ],
   "source": [
    "# Exercise 2, Problem b\n",
    "\n",
    "# (ii) In all games against this user, how many times did athena-pallada win?\n",
    "\n",
    "# Updating the parameters to limit games only to those against opponent\n",
    "player = \"athena-pallada\"\n",
    "player_url = \"https://lichess.org/api/games/user/\" + player\n",
    "params = {\"vs\": opponentname}\n",
    "\n",
    "# Getting all games played between athena-pallada and Bacio129\n",
    "gamesvs = rq.get(player_url, params, headers={\"Accept\": \"application/x-ndjson\",})\n",
    "gamesvs = gamesvs.text\n",
    "\n",
    "# Splitting each game out into a list\n",
    "gamesvs = gamesvs.split(\"\\n\")\n",
    "\n",
    "# Instantiating wins variable that counts the number of wins that athena-pallada has against Bacio129\n",
    "wins = 0\n",
    "\n",
    "# For loop that counts athena-palladas wins in her matchups vs Bacio129\n",
    "for i in range(0, len(gamesvs) - 1):\n",
    "    if js.loads(gamesvs[i])[\"players\"][\"white\"][\"user\"][\"name\"] == player and js.loads(gamesvs[i])[\"winner\"] == \"white\":\n",
    "        wins = wins + 1\n",
    "    if js.loads(gamesvs[i])[\"players\"][\"black\"][\"user\"][\"name\"] == player and js.loads(gamesvs[i])[\"winner\"] == \"black\":\n",
    "        wins = wins + 1\n",
    "\n",
    "print(\"SOLUTION: \" + str(wins))"
   ]
  },
  {
   "cell_type": "markdown",
   "metadata": {
    "tags": [
     "exercise"
    ]
   },
   "source": [
    "In all games against Bacio129, athena-pallada won 2 games."
   ]
  },
  {
   "cell_type": "markdown",
   "metadata": {
    "tags": [
     "exercise"
    ]
   },
   "source": [
    "__(c)__ Consider the top ten players in the bullet leaderboard. __(i)__ Which player has the most bullet games overall? __(ii)__ Which player has played the most bullet games relative to account age in days? __(iii)__ Which player has the worst win-to-loss ratio over all formats?"
   ]
  },
  {
   "cell_type": "code",
   "execution_count": 13,
   "metadata": {
    "tags": [
     "test"
    ]
   },
   "outputs": [
    {
     "name": "stdout",
     "output_type": "stream",
     "text": [
      "SOLUTION: Mishka_The_Great: 61298\n"
     ]
    }
   ],
   "source": [
    "# Exercise 2, Problem c\n",
    "\n",
    "# (i) Consider the top ten players in the bullet leaderboard. Which player has the most bullet games overall?\n",
    "\n",
    "# Getting the top 10 bullet players data\n",
    "leadersraw = rq.get(\"https://lichess.org/player/top/10/bullet\", headers={\"Accept\": \"application/json\",})\n",
    "leadersjson = leadersraw.json()\n",
    "\n",
    "# Instantiating an empty character vector\n",
    "bulletleaders = [\"NaN\"] * 10\n",
    "\n",
    "# Adding in the username of each of the top 10 bullet players\n",
    "for i in range(0, len(leadersjson[\"users\"])):\n",
    "    bulletleaders[i] = leadersjson[\"users\"][i][\"username\"]\n",
    "\n",
    "# Instantiating an empty game number vector\n",
    "numgames = [0] * 10\n",
    "\n",
    "# Adding in the number of bullet games played for each top 10 player\n",
    "for i in range(0, len(bulletleaders)):\n",
    "    url = \"https://lichess.org/api/user/\" + bulletleaders[i]\n",
    "    response_i = rq.get(url, headers={\"Accept\": \"application/json\",})\n",
    "    result_i = response_i.json()\n",
    "    numgames[i] = int(result_i[\"perfs\"][\"bullet\"][\"games\"])\n",
    "\n",
    "# Combining the leaders' usernames and number of games played into a dataframe\n",
    "leadersdf = pd.DataFrame({\n",
    "    \"username\": bulletleaders,\n",
    "    \"numgames\": numgames})\n",
    "\n",
    "# Returning the username of the player on the top 10 bullet leaderboard with the most bullet games\n",
    "print(\"SOLUTION: \" + leadersdf[leadersdf[\"numgames\"] == max(leadersdf.numgames)].iloc[0, 0] + \": \" +\n",
    "      str(leadersdf[leadersdf[\"numgames\"] == max(leadersdf.numgames)].iloc[0, 1]))"
   ]
  },
  {
   "cell_type": "markdown",
   "metadata": {
    "tags": [
     "exercise"
    ]
   },
   "source": [
    "The username of the player on the top 10 bullet leaderboard with the most bullet games played is Mishka_The_Great,\n",
    "with 61,298 games played."
   ]
  },
  {
   "cell_type": "code",
   "execution_count": 14,
   "metadata": {
    "tags": [
     "test"
    ]
   },
   "outputs": [
    {
     "name": "stdout",
     "output_type": "stream",
     "text": [
      "SOLUTION: Mishka_The_Great: 28.066849816849818\n"
     ]
    }
   ],
   "source": [
    "# Exercise 2, Problem c\n",
    "\n",
    "# (ii) Consider the top ten players in the bullet leaderboard.\n",
    "# Which player has played the most bullet games relative to account age in days? \n",
    "\n",
    "# Instantiating an empty accountAge vector that measures the age of each account in days\n",
    "accountAge = [0]*10\n",
    "\n",
    "# Adding in the account age for each top 10 player\n",
    "for i in range(0, len(bulletleaders)):\n",
    "    url = \"https://lichess.org/api/user/\" + bulletleaders[i]\n",
    "    response_i = rq.get(url, headers={\"Accept\": \"application/json\",})\n",
    "    result_i = response_i.json()\n",
    "    diff = dt.today() - dt.fromtimestamp(result_i[\"createdAt\"]/1000)\n",
    "    accountAge[i] = int(diff.days)\n",
    "\n",
    "\n",
    "# Creating a dataframe with username, number of bullet games played, and account age\n",
    "bulletdf = pd.DataFrame({\n",
    "    \"username\": bulletleaders,\n",
    "    \"numgames\": numgames,\n",
    "    \"accountAge\": accountAge})\n",
    "\n",
    "# Appending a gmsPerDay variable to the dataframe\n",
    "bulletdf = pd.DataFrame({\n",
    "    \"username\": bulletleaders,\n",
    "    \"numgames\": numgames,\n",
    "    \"accountAge\": accountAge,\n",
    "    \"gmsPerDay\": bulletdf[\"numgames\"] / bulletdf[\"accountAge\"]})\n",
    "\n",
    "# Returning the username of the player on the top 10 bullet leaderboard with the most bullet games played per day their account has existed\n",
    "print(\"SOLUTION: \" + bulletdf[bulletdf[\"gmsPerDay\"] == max(bulletdf.gmsPerDay)].iloc[0, 0] + \": \" +\n",
    "      str(bulletdf[bulletdf[\"gmsPerDay\"] == max(bulletdf.gmsPerDay)].iloc[0, 3]))\n"
   ]
  },
  {
   "cell_type": "markdown",
   "metadata": {
    "tags": [
     "exercise"
    ]
   },
   "source": [
    "Mishka_The_Great also has the most number of games played per day that their account has existed,\n",
    "with over 28 games played per day."
   ]
  },
  {
   "cell_type": "code",
   "execution_count": 15,
   "metadata": {
    "tags": [
     "test"
    ]
   },
   "outputs": [
    {
     "name": "stdout",
     "output_type": "stream",
     "text": [
      "SOLUTION: klari64: 1.4608555286521387\n"
     ]
    }
   ],
   "source": [
    "# Exercise 2, Problem c\n",
    "\n",
    "# (iii) Consider the top ten players in the bullet leaderboard. Which player has the worst win-to-loss ratio over all formats? \n",
    "\n",
    "# Instantiating an empty winRatio vector that measures the win-loss ratio of each bullet leader\n",
    "winRatio = [0]*10\n",
    "\n",
    "# Adding in the winRatio for each top 10 player\n",
    "for i in range(0, len(bulletleaders)):\n",
    "    url = \"https://lichess.org/api/user/\" + bulletleaders[i]\n",
    "    response_i = rq.get(url, headers={\"Accept\": \"application/json\",})\n",
    "    result_i = response_i.json()\n",
    "    winRatio[i] = result_i[\"count\"][\"win\"] / result_i[\"count\"][\"loss\"]\n",
    "\n",
    "# Creating a dataframe with username and win-loss ratio\n",
    "ratiodf = pd.DataFrame({\n",
    "    \"username\": bulletleaders,\n",
    "    \"winRatio\": winRatio})\n",
    "\n",
    "# Returning the username of the player on the top 10 bullet leaderboard with the worst win-loss ratio\n",
    "print(\"SOLUTION: \" + ratiodf[ratiodf[\"winRatio\"] == min(ratiodf.winRatio)].iloc[0, 0] + \": \" +\n",
    "      str(ratiodf[ratiodf[\"winRatio\"] == min(ratiodf.winRatio)].iloc[0, 1]))"
   ]
  },
  {
   "cell_type": "markdown",
   "metadata": {
    "tags": [
     "exercise"
    ]
   },
   "source": [
    "With a win-loss ratio across all game formats of 1.46 wins-per-loss, klari64 is the member of the bullet top 10\n",
    "leaderboard with the worst win-loss ratio."
   ]
  },
  {
   "cell_type": "markdown",
   "metadata": {
    "tags": [
     "exercise"
    ]
   },
   "source": [
    "__(d)__ Get all games from user `manwithavan`. Group them by opening and print the ten most popular. "
   ]
  },
  {
   "cell_type": "code",
   "execution_count": 16,
   "metadata": {
    "tags": [
     "test"
    ]
   },
   "outputs": [
    {
     "name": "stdout",
     "output_type": "stream",
     "text": [
      "SOLUTION: The 10 most frequently used openings by the user manwithavan across all games are:\n",
      "1. Van't Kruijs Opening (7)\n",
      "2. Nimzo-Larsen Attack: Modern Variation (7)\n",
      "3. Pirc Defense (6)\n",
      "4. Mieses Opening (6)\n",
      "5. Caro-Kann Defense: Breyer Variation (5)\n",
      "6. Modern Defense (5)\n",
      "7. Queen's Pawn Game (5)\n",
      "8. Nimzo-Larsen Attack (5)\n",
      "9. Zukertort Opening: Queenside Fianchetto Variation (5)\n",
      "10. Zukertort Opening: Kingside Fianchetto (5)\n"
     ]
    }
   ],
   "source": [
    "# Exercise 2, Problem d\n",
    "\n",
    "# Get all games from user manwithavan. Group them by opening and print the ten most popular.\n",
    "\n",
    "# Setting manwithavan as the user\n",
    "user = \"manwithavan\"\n",
    "user_url = \"https://lichess.org/api/games/user/\" + user\n",
    "params = {\"opening\": \"True\"}\n",
    "\n",
    "# Getting all games from the user manwithavan\n",
    "usergames = rq.get(user_url, params, headers={\"Accept\": \"application/json\",})\n",
    "usergames = usergames.text\n",
    "\n",
    "# Splitting out the games data by each game element\n",
    "split = usergames.split(\"\\n\")\n",
    "\n",
    "# Creating a vector of the openings that manwithavan has used\n",
    "openings = []\n",
    "for i in split:\n",
    "    if \"Opening\" in i:\n",
    "        openings.append(i)\n",
    "openings = pd.Series(openings)\n",
    "openings = openings[openings != '[Opening \"?\"]']\n",
    "\n",
    "# Turning the openings vector into a frequency table of only the top ten openings\n",
    "frequency_table = pd.DataFrame(openings.value_counts()[0:10]).reset_index()\n",
    "frequency_table['index'] = frequency_table['index'].str.extract(r'\"(.*?)\"')\n",
    "frequency_table\n",
    "\n",
    "print(\"SOLUTION: The 10 most frequently used openings by the user manwithavan across all games are:\")\n",
    "for i in range(1, 11):\n",
    "    print(str(i) + \". \" + frequency_table.iloc[i - 1, 0] + \" (\" + str(frequency_table.iloc[i - 1, 1]) + \")\")\n"
   ]
  }
 ],
 "metadata": {
  "celltoolbar": "Tags",
  "kernelspec": {
   "display_name": "Python 3 (ipykernel)",
   "language": "python",
   "name": "python3"
  },
  "language_info": {
   "codemirror_mode": {
    "name": "ipython",
    "version": 3
   },
   "file_extension": ".py",
   "mimetype": "text/x-python",
   "name": "python",
   "nbconvert_exporter": "python",
   "pygments_lexer": "ipython3",
   "version": "3.11.5"
  }
 },
 "nbformat": 4,
 "nbformat_minor": 4
}
