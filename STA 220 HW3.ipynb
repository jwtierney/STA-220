{
 "cells": [
  {
   "cell_type": "markdown",
   "id": "7b4bee3a",
   "metadata": {
    "tags": [
     "header"
    ]
   },
   "source": [
    "# STA 220 Assignment 3\n",
    "\n",
    "# Jake Tierney, Student ID: 913235409\n",
    "\n",
    "Due __Februrary 23, 2024__ by __11:59pm__. Submit your work by uploading it to Gradescope through Canvas.\n",
    "\n",
    "Instructions:\n",
    "\n",
    "1. Provide your solutions in new cells following each exercise description. Create as many new cells as necessary. Use code cells for your Python scripts and Markdown cells for explanatory text or answers to non-coding questions. Answer all textual questions in complete sentences.\n",
    "2. The use of assistive tools is permitted, but must be indicated. You will be graded on you proficiency in coding. Produce high quality code by adhering to proper programming principles. \n",
    "3. Export the .jpynb as .pdf and submit it on Gradescope in time. To facilitate grading, indicate the area of the solution on the submission. Submissions without indication will be marked down. No late submissions accepted. \n",
    "4. If test cases are given, your solution must be in the same format. \n",
    "5. The total number of points is 10. "
   ]
  },
  {
   "cell_type": "markdown",
   "id": "17c77449",
   "metadata": {
    "tags": [
     "exercise"
    ]
   },
   "source": [
    "__(a, i)__ Write a function that retrieves all links to movies in the database by scraping the _alphabetical_ section on [imsdb.com](https://imsdb.com/) and retrieve the links. _How many links did you find?_ __(ii)__ Write a function `fetch_script` that, given the link of a movie retrieved in (i), returns a dictionary that contains all relevant information of the movie: \n",
    "\n",
    "```python\n",
    "fetch_script('/Movie Scripts/10 Things I Hate About You Script.html')\n",
    "\n",
    ">>> {'title': '10 Things I Hate About You',\n",
    "     'writers': ['Karen McCullah Lutz', 'Kirsten Smith', 'William Shakespeare'],\n",
    "     'genres': ['Comedy', 'Romance'],\n",
    "     'date': 1997,\n",
    "     'script': '...'}\n",
    "```\n",
    "\n",
    "The `script` field contains a string of the scraped script. Retrieve the information for all movies. _How many scripts did you retrieve?_"
   ]
  },
  {
   "cell_type": "code",
   "execution_count": 1,
   "id": "37bf6013-f10e-4a76-a3e0-8d46cb5790b7",
   "metadata": {},
   "outputs": [],
   "source": [
    "# Importing requisite modules\n",
    "import requests as rq\n",
    "import pandas as pd\n",
    "import numpy as np\n",
    "from bs4 import BeautifulSoup\n",
    "import re\n",
    "import matplotlib.pyplot as plt\n",
    "from sklearn.feature_extraction.text import TfidfVectorizer\n",
    "import nltk\n",
    "from sklearn.decomposition import TruncatedSVD\n",
    "from sklearn.pipeline import make_pipeline"
   ]
  },
  {
   "cell_type": "code",
   "execution_count": 2,
   "id": "158fec85-6b04-4c0d-9ebf-9821aa3026be",
   "metadata": {},
   "outputs": [
    {
     "data": {
      "text/plain": [
       "1221"
      ]
     },
     "execution_count": 2,
     "metadata": {},
     "output_type": "execute_result"
    }
   ],
   "source": [
    "# Problem a, part (i)\n",
    "\n",
    "# Defining a function that takes the IMSDB all scripts url as input and outputs a list of script URLs\n",
    "def fetchlinks(input_url):\n",
    "\n",
    "    # Requesting the url data\n",
    "    response = rq.get(input_url)\n",
    "    \n",
    "    # Parsing the html data and finding all links on the page\n",
    "    data = BeautifulSoup(response.content, 'html.parser')\n",
    "    links = data.find_all('a')\n",
    "    \n",
    "    # Converting the links data into a list of strings\n",
    "    page = []\n",
    "    for i in links:\n",
    "        page.append(str(i))\n",
    "\n",
    "\n",
    "    # Subsetting the list of strings to only the links for movie scripts\n",
    "    first_script = page.index('<a href=\"https://imsdb.com/all-scripts.html\">ALL SCRIPTS</a>') + 1\n",
    "    last_script = page.index('<a href=\"https://imsdb.com\" title=\"Internet Movie Script Database (IMSDb)\">Index</a>')\n",
    "    scripts = page[first_script:last_script]\n",
    "\n",
    "    # Initializing the final list of script urls\n",
    "    final_links = []\n",
    "\n",
    "    # Appending the final url for each script to the final_links list\n",
    "    for i in range(0, len(scripts)):\n",
    "        script_url = \"https://imsdb.com\" + scripts[i][scripts[i].find('href=') + 6:scripts[i].find('title=') - 2]\n",
    "        final_links.append(script_url)\n",
    "\n",
    "    # Returning the final list of script urls\n",
    "    return final_links\n",
    "\n",
    "# Initializing the imsdb url and running the fetchlinks function on it\n",
    "imsdb = \"https://imsdb.com/all-scripts.html\"\n",
    "scriptlinks = fetchlinks(imsdb)\n",
    "\n",
    "# Printing the length of the scriptlinks list\n",
    "len(scriptlinks)"
   ]
  },
  {
   "cell_type": "markdown",
   "id": "fdc4fb21-1e8a-4de5-b384-e642af40a284",
   "metadata": {
    "tags": [
     "exercise"
    ]
   },
   "source": [
    "SOLUTION: There are 1221 links to movies on the imsdb website."
   ]
  },
  {
   "cell_type": "code",
   "execution_count": 3,
   "id": "8a6b4443-d04f-4c67-83c5-c7e00491918f",
   "metadata": {},
   "outputs": [
    {
     "data": {
      "text/plain": [
       "1160"
      ]
     },
     "execution_count": 3,
     "metadata": {},
     "output_type": "execute_result"
    }
   ],
   "source": [
    "# Problem a, part (ii)\n",
    "\n",
    "# Defining a function that takes the movie url as input and outputs a dictionary of the relevant info\n",
    "def fetch_script(movie_url):\n",
    "\n",
    "    # Getting the movie information from the movie's url\n",
    "    response = rq.get(movie_url)\n",
    "    data = BeautifulSoup(response.text, 'html.parser')\n",
    "    script_details = data.find('table', class_='script-details')\n",
    "\n",
    "    if script_details:\n",
    "\n",
    "        # Converting the script_details data into a list of strings\n",
    "        details = []\n",
    "        for i in script_details:\n",
    "            details.append(str(i))\n",
    "    \n",
    "        # Defining the movie title\n",
    "        movietitle = details[3][details[3].find('title=') + 7:details[3].find('Script') - 1]\n",
    "    \n",
    "        # Defining the movie writers\n",
    "        moviewriters = []\n",
    "        for i in details[3].split('writer.php?w=')[1:]:\n",
    "            name = i[:i.find('title=') - 2]\n",
    "            moviewriters.append(name)\n",
    "    \n",
    "        # Defining the movie genres\n",
    "        moviegenres = []\n",
    "        for i in details[3].split('/genre/')[1:]:\n",
    "            genre = i[:i.find('title=') - 2]\n",
    "            moviegenres.append(genre)\n",
    "    \n",
    "        # Defining the movie date\n",
    "        if len(details[3].split('Date</b>')) == 1:\n",
    "            moviedate = ''\n",
    "        else:\n",
    "            moviedate = details[3].split('Date</b>')[1][details[3].split('Date</b>')[1].find('<br/>') - 4:details[3].split('Date</b>')[1].find('<br/>')]\n",
    "        \n",
    "        # Slicing for the script url\n",
    "        scriptslice1 = details[3].split('br/>\\n<br/>\\n')[1].find('href=') + 6\n",
    "        scriptslice2 = details[3].split('br/>\\n<br/>\\n')[1].find('>Read') - 1\n",
    "        script_url = \"https://imsdb.com\" + details[3].split('br/>\\n<br/>\\n')[1][scriptslice1:scriptslice2]\n",
    "    \n",
    "        # If statement setting the script text to None if there is no script url\n",
    "        if script_url == 'https://imsdb.com\\n</t':\n",
    "            clean_text = 'None'\n",
    "    \n",
    "        else:\n",
    "            # Getting the script text from the url\n",
    "            script = rq.get(script_url)\n",
    "            scripthtml = BeautifulSoup(script.text, 'html.parser')\n",
    "            script_text = scripthtml.find('td', class_='scrtext')\n",
    "    \n",
    "            # Cleaning the script text to remove html and \\r \\n characters\n",
    "            clean_text = re.sub('<.*?>', '', str(script_text))\n",
    "            clean_text = clean_text.replace('\\r', '').replace('\\n', '')\n",
    "\n",
    "    else:\n",
    "        movietitle = ''\n",
    "        moviewriters = ''\n",
    "        moviegenres = ''\n",
    "        moviedate = ''\n",
    "        clean_text = ''\n",
    "        \n",
    "    # Creating the dictionary for this movie\n",
    "    movie_info = {\n",
    "        'title': movietitle,\n",
    "        'writers': moviewriters,\n",
    "        'genres': moviegenres,\n",
    "        'date': moviedate,\n",
    "        'script': clean_text\n",
    "    }\n",
    "\n",
    "    return movie_info\n",
    "\n",
    "# Initiating the list that we will append script information dictionaries to\n",
    "script_list = []\n",
    "\n",
    "# Running the fetch_script function for each of the movie urls found in part (i)\n",
    "for i in scriptlinks:\n",
    "    info = fetch_script(i)\n",
    "    script_list.append(info)\n",
    "\n",
    "# Counting the number of scripts that have been retrieved\n",
    "has_script = []\n",
    "for i in range(0, len(script_list)):\n",
    "    if script_list[i]['script'] != 'None':\n",
    "        has_script.append(i)\n",
    "\n",
    "len(has_script)"
   ]
  },
  {
   "cell_type": "markdown",
   "id": "e0865ae6-d8c1-4a1d-ab6d-d9d98e9275f5",
   "metadata": {
    "tags": [
     "exercise"
    ]
   },
   "source": [
    "SOLUTION: We retrieved 1160 scripts from the 1221 movie URLs returned from part (i)."
   ]
  },
  {
   "cell_type": "markdown",
   "id": "9b612cdc",
   "metadata": {
    "tags": [
     "exercise"
    ]
   },
   "source": [
    "__(b)__ We are interested in the genres `'Musical'`, `'Horror'`, and `'Romance'`. Craft a barplot displaying the absolute counts for each of these categories. In each bar, color-code the fractions of movies that are also counted in another genres. "
   ]
  },
  {
   "cell_type": "code",
   "execution_count": 4,
   "id": "33340f3a-3db0-427e-bad4-20aab975a311",
   "metadata": {},
   "outputs": [
    {
     "data": {
      "image/png": "[encoded data removed]",
      "text/plain": [
       "<Figure size 800x500 with 1 Axes>"
      ]
     },
     "metadata": {},
     "output_type": "display_data"
    }
   ],
   "source": [
    "# Problem b\n",
    "\n",
    "# Creating lists of movies that are classified as only one of musical, horror, or romance, and those that share genres\n",
    "musical_only = []\n",
    "horror_only = []\n",
    "romance_only = []\n",
    "musical_horror = []\n",
    "musical_romance = []\n",
    "horror_romance = []\n",
    "\n",
    "# Adding movies to each of these lists\n",
    "for i in range(0, len(script_list)):\n",
    "\n",
    "    # Creating criteria for inclusion into each list\n",
    "    crit1 = 'Musical' in script_list[i]['genres'] and 'Horror' not in script_list[i]['genres'] and 'Romance' not in script_list[i]['genres']\n",
    "    crit2 = 'Horror' in script_list[i]['genres'] and 'Musical' not in script_list[i]['genres'] and 'Romance' not in script_list[i]['genres']\n",
    "    crit3 = 'Romance' in script_list[i]['genres'] and 'Musical' not in script_list[i]['genres'] and 'Horror' not in script_list[i]['genres']\n",
    "    crit4 = 'Musical' in script_list[i]['genres'] and 'Horror' in script_list[i]['genres']\n",
    "    crit5 = 'Musical' in script_list[i]['genres'] and 'Romance' in script_list[i]['genres']\n",
    "    crit6 = 'Romance' in script_list[i]['genres'] and 'Horror' in script_list[i]['genres']\n",
    "\n",
    "    # Appending movies to each genre list based on the criteria\n",
    "    if crit1:\n",
    "        musical_only.append(script_list[i])\n",
    "    if crit2:\n",
    "        horror_only.append(script_list[i])\n",
    "    if crit3:\n",
    "        romance_only.append(script_list[i])\n",
    "    if crit4:\n",
    "        musical_horror.append(script_list[i])\n",
    "    if crit5:\n",
    "        musical_romance.append(script_list[i])\n",
    "    if crit6:\n",
    "        horror_romance.append(script_list[i])\n",
    "\n",
    "# Creating vectors for the genres, count of movies within each genre, number of movies that are coded as other genres, and proportions\n",
    "genre = ['Musical', 'Horror', 'Romance']\n",
    "genre_count = [len(musical_only), len(horror_only), len(romance_only)]\n",
    "shared_musical = [0, len(musical_horror), len(musical_romance)]\n",
    "shared_horror = [len(musical_horror), 0, len(horror_romance)]\n",
    "shared_romance = [len(musical_romance), len(horror_romance), 0]\n",
    "\n",
    "# Creating a pandas dataframe of these values\n",
    "df = pd.DataFrame({\n",
    "    'Genre': genre,\n",
    "    'Genre Count': genre_count,\n",
    "    'Shared Musical': shared_musical,\n",
    "    'Shared Horror': shared_horror,\n",
    "    'Shared Romance': shared_romance\n",
    "})\n",
    "\n",
    "# Initializing the plot\n",
    "plot1 = df.plot(x='Genre', y=['Shared Romance', 'Shared Horror', 'Shared Musical', 'Genre Count'],\n",
    "                kind='bar', rot = 0, title = 'Abs. Count of Movie Genres on IMSDB',\n",
    "                ylabel = \"Count\", figsize = (8, 5), stacked = True, color = ['deeppink', 'black', 'lightgreen', 'steelblue'])\n",
    "\n",
    "# Adding labels over the bars for the raw count\n",
    "for i, v in enumerate(df['Genre Count']):\n",
    "    plot1.text(i, v + df['Shared Musical'][i] + df['Shared Horror'][i] + df['Shared Romance'][i] + 0.1,\n",
    "               str(v + df['Shared Musical'][i] + df['Shared Horror'][i] + df['Shared Romance'][i]), ha='center', va='bottom')"
   ]
  },
  {
   "cell_type": "markdown",
   "id": "8358fa83",
   "metadata": {
    "tags": [
     "exercise"
    ]
   },
   "source": [
    "__(c, i)__ Using only regex, write a function `tokenizer` that returns bigrams of all non-whitespace and non-punctuation characters, according to the test case below: \n",
    "\n",
    "```python\n",
    "test = '''\n",
    "    Neque porro quisquam est, qui dolorem ipsum quia dolor sit amet, \n",
    "    consectetur, adipisci velit, sed quia non numquam eius modi tempora \n",
    "    incidunt ut labore et dolore magnam aliquam quaerat voluptatem.\n",
    "'''\n",
    "tokenizer(test)\n",
    ">>> ['neque porro',\n",
    " 'porro quisquam',\n",
    " 'quisquam est',\n",
    " 'qui dolorem',\n",
    " 'dolorem ipsum',\n",
    " 'ipsum quia',\n",
    " 'quia dolor',\n",
    " 'dolor sit',\n",
    " 'sit amet',\n",
    " 'adipisci velit',\n",
    " 'sed quia',\n",
    " 'quia non',\n",
    " 'non numquam',\n",
    " 'numquam eius',\n",
    " 'eius modi',\n",
    " 'modi tempora',\n",
    " 'incidunt ut',\n",
    " 'ut labore',\n",
    " 'labore et',\n",
    " 'et dolore',\n",
    " 'dolore magnam',\n",
    " 'magnam aliquam',\n",
    " 'aliquam quaerat',\n",
    " 'quaerat voluptatem']\n",
    " ```"
   ]
  },
  {
   "cell_type": "code",
   "execution_count": 5,
   "id": "792032a0-def3-470e-aa17-fb8b532de862",
   "metadata": {},
   "outputs": [
    {
     "data": {
      "text/plain": [
       "['neque porro',\n",
       " 'porro quisquam',\n",
       " 'quisquam est',\n",
       " 'est qui',\n",
       " 'qui dolorem',\n",
       " 'dolorem ipsum',\n",
       " 'ipsum quia',\n",
       " 'quia dolor',\n",
       " 'dolor sit',\n",
       " 'sit amet',\n",
       " 'amet consectetur',\n",
       " 'consectetur adipisci',\n",
       " 'adipisci velit',\n",
       " 'velit sed',\n",
       " 'sed quia',\n",
       " 'quia non',\n",
       " 'non numquam',\n",
       " 'numquam eius',\n",
       " 'eius modi',\n",
       " 'modi tempora',\n",
       " 'tempora incidunt',\n",
       " 'incidunt ut',\n",
       " 'ut labore',\n",
       " 'labore et',\n",
       " 'et dolore',\n",
       " 'dolore magnam',\n",
       " 'magnam aliquam',\n",
       " 'aliquam quaerat',\n",
       " 'quaerat voluptatem']"
      ]
     },
     "execution_count": 5,
     "metadata": {},
     "output_type": "execute_result"
    }
   ],
   "source": [
    "# Problem c, part (i)\n",
    "\n",
    "# Defining a function that takes a text string as input and outputs a list of string bigram entries\n",
    "def tokenizer(input_text):\n",
    "\n",
    "    # Remove punctuation and convert to lowercase\n",
    "    cleaned_text = re.sub(r'[^\\w\\s]', '', input_text).lower()\n",
    "\n",
    "    # Remove extra white space\n",
    "    cleaned_text = re.sub(r'\\s+', ' ', cleaned_text).strip()\n",
    "\n",
    "    # Create list of bigram tuples\n",
    "    bigram_list = re.findall(r'(\\b\\w+\\b) (?=(\\b\\w+\\b))', cleaned_text)\n",
    "\n",
    "    # Collapse list of bigram tuples into list of string entries\n",
    "    bigrams = []\n",
    "    for i in range(0, len(bigram_list)):\n",
    "        bigram = bigram_list[i][0] + ' ' + bigram_list[i][1]\n",
    "        bigrams.append(bigram)\n",
    "\n",
    "    return bigrams\n",
    "\n",
    "# Initializing the test case, with some additional punctuation added in to test\n",
    "test = '''\n",
    "    Neque porro quisqua'm est, qui dolorem   ipsum quia dolor sit amet, \n",
    "    consectetur, adipisci velit, sed   quia non numquam; eius modi tempora \n",
    "    inci;dunt ut labore: et  dolore magnam! aliquam quaerat voluptatem.\n",
    "'''\n",
    "\n",
    "test_tokenized = tokenizer(test)\n",
    "test_tokenized"
   ]
  },
  {
   "cell_type": "markdown",
   "id": "1241f210",
   "metadata": {
    "tags": [
     "exercise"
    ]
   },
   "source": [
    "__(ii)__ Use the tokenizer to obtain a tf-idf vector for each movie. Perform a (non-centered) principal component analysis (`sklearn.decomposition.TruncatedSVD`). _What fraction of variation is explained by the first principal component?_ __(iii)__ Generate a strip-plot for the first principal components versus all three genres. Does visualization indicate that a good classification could result from this approach? "
   ]
  },
  {
   "cell_type": "code",
   "execution_count": 6,
   "id": "e1515276-c1dd-4c52-821b-90aade738f9f",
   "metadata": {},
   "outputs": [
    {
     "data": {
      "text/plain": [
       "0.004692044740020741"
      ]
     },
     "execution_count": 6,
     "metadata": {},
     "output_type": "execute_result"
    }
   ],
   "source": [
    "# Problem c, part (ii)\n",
    "\n",
    "# Suppress all warnings\n",
    "import warnings\n",
    "warnings.filterwarnings(\"ignore\")\n",
    "\n",
    "# Creating a list of scripts containing the script text for each script\n",
    "scripts = []\n",
    "for i in has_script:\n",
    "    scripts.append(script_list[i]['script'])\n",
    "\n",
    "# Creating tf-idf vector for each movie\n",
    "vec = TfidfVectorizer(tokenizer = tokenizer) \n",
    "tfidf = vec.fit_transform(scripts)\n",
    "\n",
    "# Creating the TruncatedSVD object for the first principal component\n",
    "svd = TruncatedSVD(n_components = 1)\n",
    "\n",
    "# Fit and transform the data\n",
    "transformed_data = svd.fit_transform(tfidf)\n",
    "\n",
    "# Getting the explained variance for the first principal component\n",
    "explained_variance_ratio = svd.explained_variance_ratio_\n",
    "\n",
    "# Computing the total variance explained by the first principal component\n",
    "total_variance_explained = explained_variance_ratio.sum()\n",
    "total_variance_explained"
   ]
  },
  {
   "cell_type": "markdown",
   "id": "23713d08-6c9c-41b9-94dd-a7b5fc5ddabb",
   "metadata": {
    "tags": [
     "exercise"
    ]
   },
   "source": [
    "SOLUTION: The first principle component explains roughly 0.5% of the variation across all of the movie scripts on IMSDB."
   ]
  },
  {
   "cell_type": "code",
   "execution_count": 7,
   "id": "6098383a-791f-412f-b08d-dab41c81c2c5",
   "metadata": {},
   "outputs": [
    {
     "data": {
      "image/png": "[encoded data removed]",
      "text/plain": [
       "<Figure size 800x500 with 1 Axes>"
      ]
     },
     "metadata": {},
     "output_type": "display_data"
    }
   ],
   "source": [
    "# Problem c, part (iii)\n",
    "\n",
    "# Suppress all warnings\n",
    "import warnings\n",
    "warnings.filterwarnings(\"ignore\")\n",
    "\n",
    "# Creating lists of all movies in each genre: Musical, Horror, and Romance\n",
    "musical = musical_only + musical_horror + musical_romance\n",
    "horror = horror_only + musical_horror + horror_romance\n",
    "romance = romance_only + musical_romance + horror_romance\n",
    "\n",
    "# Creating list of only the scripts for each genre: Musical, Horror, and Romance\n",
    "musical_scripts = []\n",
    "horror_scripts = []\n",
    "romance_scripts = []\n",
    "for m in musical:\n",
    "    musical_scripts.append(m['script'])\n",
    "for h in horror:\n",
    "    horror_scripts.append(h['script'])\n",
    "for r in romance:\n",
    "    romance_scripts.append(r['script'])\n",
    "\n",
    "# First PC for Musical scripts\n",
    "\n",
    "# TF-IDF Vectorization and Truncated SVD for first PC\n",
    "m_vec = TfidfVectorizer(tokenizer = tokenizer)\n",
    "m_svd = TruncatedSVD(n_components = 1)\n",
    "\n",
    "# Create a pipeline for convenience\n",
    "m_pipeline = make_pipeline(m_vec, m_svd)\n",
    "\n",
    "# Fit and transform the text data\n",
    "m_pc = m_pipeline.fit_transform(musical_scripts)\n",
    "\n",
    "# First PC for Horror scripts\n",
    "\n",
    "# TF-IDF Vectorization and Truncated SVD for first PC\n",
    "h_vec = TfidfVectorizer(tokenizer = tokenizer)\n",
    "h_svd = TruncatedSVD(n_components = 1)\n",
    "\n",
    "# Create a pipeline for convenience\n",
    "h_pipeline = make_pipeline(h_vec, h_svd)\n",
    "\n",
    "# Fit and transform the text data\n",
    "h_pc = h_pipeline.fit_transform(horror_scripts)\n",
    "\n",
    "# First PC for Romance scripts\n",
    "\n",
    "# TF-IDF Vectorization and Truncated SVD for first PC\n",
    "r_vec = TfidfVectorizer(tokenizer = tokenizer)\n",
    "r_svd = TruncatedSVD(n_components = 1)\n",
    "\n",
    "# Create a pipeline for convenience\n",
    "r_pipeline = make_pipeline(r_vec, r_svd)\n",
    "\n",
    "# Fit and transform the text data\n",
    "r_pc = r_pipeline.fit_transform(romance_scripts)\n",
    "\n",
    "# Creating a list of genres\n",
    "genres = ['Musical' for _ in range(27)] + ['Horror' for _ in range(158)] + ['Romance' for _ in range(204)]\n",
    "\n",
    "# Creating an array of PC values\n",
    "pc_vals = np.concatenate((m_pc, h_pc, r_pc))\n",
    "pc_vals = np.concatenate(pc_vals)\n",
    "\n",
    "# Creating a pandas dataframe of genre and PC values\n",
    "script_df = pd.DataFrame({\n",
    "    'Genre': genres,\n",
    "    'First PC': pc_vals\n",
    "})\n",
    "\n",
    "# Creating strip plot\n",
    "plot2 = script_df.plot(x='Genre', y=['First PC'],\n",
    "                kind='scatter', rot = 0, title = 'First Principal Component For Scripts By Genre',\n",
    "                ylabel = \"First Principal Component\", figsize = (8, 5))"
   ]
  },
  {
   "cell_type": "markdown",
   "id": "c92ffb9c-9081-46f9-82bf-c0a32e8faf57",
   "metadata": {
    "tags": [
     "exercise"
    ]
   },
   "source": [
    "SOLUTION: The distributions of first principal component values for each script within each genre does appear to differ slightly between the Musical, Horror, and Romance genres. This indicates that this method could be a good way to classify movie scripts as different genres nased only on their script text."
   ]
  }
 ],
 "metadata": {
  "celltoolbar": "Tags",
  "kernelspec": {
   "display_name": "Python 3 (ipykernel)",
   "language": "python",
   "name": "python3"
  },
  "language_info": {
   "codemirror_mode": {
    "name": "ipython",
    "version": 3
   },
   "file_extension": ".py",
   "mimetype": "text/x-python",
   "name": "python",
   "nbconvert_exporter": "python",
   "pygments_lexer": "ipython3",
   "version": "3.11.5"
  }
 },
 "nbformat": 4,
 "nbformat_minor": 5
}
